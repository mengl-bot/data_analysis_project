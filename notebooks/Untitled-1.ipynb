{
 "cells": [
  {
   "cell_type": "code",
   "execution_count": null,
   "metadata": {},
   "outputs": [],
   "source": [
    "import pandas as pd\n",
    "\n",
    "# Read Excel file\n",
    "df = pd.read_excel('input.xlsx')\n",
    "\n",
    "# Remove duplicates and keep the first occurrence\n",
    "df_no_duplicates = df.drop_duplicates()\n",
    "\n",
    "# Save the result to a new Excel file\n",
    "df_no_duplicates.to_excel('output_no_duplicates.xlsx', index=False)"
   ]
  }
 ],
 "metadata": {
  "kernelspec": {
   "display_name": "Python 3",
   "language": "python",
   "name": "python3"
  },
  "language_info": {
   "name": "python",
   "version": "3.12.9"
  }
 },
 "nbformat": 4,
 "nbformat_minor": 2
}
